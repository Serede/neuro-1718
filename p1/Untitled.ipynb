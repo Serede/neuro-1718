{
 "cells": [
  {
   "cell_type": "code",
   "execution_count": 1,
   "metadata": {},
   "outputs": [],
   "source": [
    "%load_ext autoreload\n",
    "%autoreload 2\n",
    "%reload_ext autoreload"
   ]
  },
  {
   "cell_type": "code",
   "execution_count": 8,
   "metadata": {
    "scrolled": false
   },
   "outputs": [
    {
     "name": "stdout",
     "output_type": "stream",
     "text": [
      "inf 0.001\n",
      "SCORE:  0.728183118741\n",
      "0.00262369698161 0.001\n",
      "SCORE:  0.844778254649\n",
      "0.00194163155682 0.001\n",
      "SCORE:  0.896995708155\n",
      "0.00173975500831 0.001\n",
      "SCORE:  0.916309012876\n",
      "0.00170771313337 0.001\n",
      "SCORE:  0.930615164521\n",
      "0.00171478244915 0.001\n",
      "SCORE:  0.939198855508\n",
      "0.00172057964418 0.001\n",
      "SCORE:  0.942060085837\n",
      "0.00172399858223 0.001\n",
      "SCORE:  0.947067238913\n",
      "0.00174146433493 0.001\n",
      "SCORE:  0.947782546495\n",
      "0.00175702548924 0.001\n",
      "SCORE:  0.948497854077\n",
      "0.00176970665954 0.001\n",
      "SCORE:  0.947782546495\n",
      "0.00177995117654 0.001\n",
      "SCORE:  0.947782546495\n",
      "0.00178813390179 0.001\n",
      "SCORE:  0.948497854077\n",
      "0.00179457266685 0.001\n",
      "SCORE:  0.948497854077\n",
      "0.00179953714113 0.001\n",
      "SCORE:  0.948497854077\n",
      "0.00180325617421 0.001\n",
      "SCORE:  0.94921316166\n",
      "0.00180592398619 0.001\n",
      "SCORE:  0.950643776824\n",
      "0.00180770541166 0.001\n",
      "SCORE:  0.951359084406\n",
      "0.0018087403473 0.001\n",
      "SCORE:  0.950643776824\n",
      "0.00180914752545 0.001\n",
      "SCORE:  0.950643776824\n",
      "0.00180902771583 0.001\n",
      "SCORE:  0.952789699571\n",
      "0.00180846644245 0.001\n",
      "SCORE:  0.952074391989\n",
      "0.00180753628888 0.001\n",
      "SCORE:  0.952074391989\n",
      "0.00180629885452 0.001\n",
      "SCORE:  0.952074391989\n",
      "0.00180480641456 0.001\n",
      "SCORE:  0.952789699571\n",
      "0.00180310332865 0.001\n",
      "SCORE:  0.952789699571\n",
      "0.00180122723634 0.001\n",
      "SCORE:  0.952789699571\n",
      "0.00179921007145 0.001\n",
      "SCORE:  0.952789699571\n",
      "0.00179707892309 0.001\n",
      "SCORE:  0.952789699571\n",
      "0.00179485676624 0.001\n",
      "SCORE:  0.953505007153\n",
      "0.00179256308188 0.001\n",
      "SCORE:  0.953505007153\n",
      "0.00179021438336 0.001\n",
      "SCORE:  0.953505007153\n",
      "0.00178782466308 0.001\n",
      "SCORE:  0.954935622318\n",
      "0.0017854057717 0.001\n",
      "SCORE:  0.954935622318\n",
      "0.0017829677401 0.001\n",
      "SCORE:  0.9556509299\n",
      "0.00178051905256 0.001\n",
      "SCORE:  0.956366237482\n",
      "0.00177806687886 0.001\n",
      "SCORE:  0.957081545064\n",
      "0.00177561727123 0.001\n",
      "SCORE:  0.957081545064\n",
      "0.00177317533162 0.001\n",
      "SCORE:  0.957081545064\n",
      "0.00177074535379 0.001\n",
      "SCORE:  0.957081545064\n",
      "0.00176833094397 0.001\n",
      "SCORE:  0.956366237482\n",
      "0.00176593512331 0.001\n",
      "SCORE:  0.957796852647\n",
      "0.001763560415 0.001\n",
      "SCORE:  0.958512160229\n",
      "0.00176120891825 0.001\n",
      "SCORE:  0.957796852647\n",
      "0.00175888237117 0.001\n",
      "SCORE:  0.958512160229\n",
      "0.00175658220425 0.001\n",
      "SCORE:  0.958512160229\n",
      "0.00175430958578 0.001\n",
      "SCORE:  0.958512160229\n",
      "0.00175206546051 0.001\n",
      "SCORE:  0.958512160229\n",
      "0.00174985058258 0.001\n",
      "SCORE:  0.958512160229\n",
      "0.00174766554343 0.001\n",
      "SCORE:  0.958512160229\n",
      "Train finished\n",
      "Train score\n",
      "0.958512160229\n"
     ]
    },
    {
     "data": {
      "text/plain": [
       "([array([[ 223.,   18.],\n",
       "         [  10.,  448.]]), array([[ 447.,   11.],\n",
       "         [  19.,  222.]])], [array([0, 1]), array([0, 1])])"
      ]
     },
     "execution_count": 8,
     "metadata": {},
     "output_type": "execute_result"
    }
   ],
   "source": [
    "import ada_network as ada\n",
    "import dataset as d\n",
    "\n",
    "data_set = d.Dataset(\"./data/problema_real1.txt\")\n",
    "\n",
    "ada_network = ada.AdaNetwork(\"AdaNetwork\",data_set.input_length,data_set.output_length, learn_rate=0.001)\n",
    "\n",
    "\n",
    "ada_network.train(data_set.input_data, data_set.output_data,max_epoch=50,threshold=0.001)\n",
    "print(\"Train finished\")\n",
    "print(\"Train score\")\n",
    "print(ada_network.score(data_set.input_data, data_set.output_data))\n",
    "data_set.confussion_matrix(ada_network.classify(data_set.input_data))\n",
    "\n"
   ]
  },
  {
   "cell_type": "code",
   "execution_count": null,
   "metadata": {
    "scrolled": true
   },
   "outputs": [],
   "source": [
    "%run ./per_main.py -t 1 -l 0.25 mode2 -d ./data/problema_real1.txt\n"
   ]
  },
  {
   "cell_type": "code",
   "execution_count": null,
   "metadata": {
    "scrolled": false
   },
   "outputs": [],
   "source": [
    "%run ./ada_main.py -t 0.001 -l 0.25 -e 100 mode2\n"
   ]
  },
  {
   "cell_type": "code",
   "execution_count": null,
   "metadata": {},
   "outputs": [],
   "source": [
    "a = (1,2)\n",
    "b = (1,1+1+1)\n",
    "b == (1,3)"
   ]
  }
 ],
 "metadata": {
  "kernelspec": {
   "display_name": "Python 3",
   "language": "python",
   "name": "python3"
  },
  "language_info": {
   "codemirror_mode": {
    "name": "ipython",
    "version": 3
   },
   "file_extension": ".py",
   "mimetype": "text/x-python",
   "name": "python",
   "nbconvert_exporter": "python",
   "pygments_lexer": "ipython3",
   "version": "3.6.1"
  }
 },
 "nbformat": 4,
 "nbformat_minor": 2
}
